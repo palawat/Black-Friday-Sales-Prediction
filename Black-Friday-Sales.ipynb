{
 "cells": [
  {
   "cell_type": "markdown",
   "metadata": {
    "colab_type": "text",
    "id": "lOQs5BxXg4qU"
   },
   "source": [
    "## Problem Statement\n",
    "A retail company “ABC Private Limited” wants to understand the customer purchase behaviour (specifically, purchase amount) against various products of different categories. They have shared purchase summary of various customers for selected high volume products from last month.\n",
    "The data set also contains customer demographics (age, gender, marital status, city_type, stay_in_current_city), product details (product_id and product category) and Total purchase_amount from last month.\n",
    "\n",
    "Now, they want to build a model to **predict the purchase amount of customer** against various products which will help them to create personalized offer for customers against different products.\n",
    "\n",
    "\n",
    "https://datahack.analyticsvidhya.com/contest/black-friday/#About"
   ]
  },
  {
   "cell_type": "code",
   "execution_count": 1,
   "metadata": {
    "colab": {
     "base_uri": "https://localhost:8080/",
     "height": 70
    },
    "colab_type": "code",
    "id": "S4I_lgNC1ddD",
    "outputId": "4b0908ce-cea7-4392-dfa6-4d1863463360"
   },
   "outputs": [
    {
     "name": "stderr",
     "output_type": "stream",
     "text": [
      "/usr/local/lib/python3.6/dist-packages/statsmodels/tools/_testing.py:19: FutureWarning: pandas.util.testing is deprecated. Use the functions in the public API at pandas.testing instead.\n",
      "  import pandas.util.testing as tm\n"
     ]
    }
   ],
   "source": [
    "import numpy as np\n",
    "import pandas as pd\n",
    "import matplotlib.pyplot as plt \n",
    "%matplotlib inline\n",
    "import statistics\n",
    "import seaborn as sns"
   ]
  },
  {
   "cell_type": "code",
   "execution_count": 2,
   "metadata": {
    "colab": {
     "base_uri": "https://localhost:8080/",
     "height": 121
    },
    "colab_type": "code",
    "id": "y8XpUQL91wJn",
    "outputId": "a8eac3a4-68b7-4d19-9d49-61119fefd309"
   },
   "outputs": [
    {
     "name": "stdout",
     "output_type": "stream",
     "text": [
      "Go to this URL in a browser: https://accounts.google.com/o/oauth2/auth?client_id=947318989803-6bn6qk8qdgf4n4g3pfee6491hc0brc4i.apps.googleusercontent.com&redirect_uri=urn%3aietf%3awg%3aoauth%3a2.0%3aoob&response_type=code&scope=email%20https%3a%2f%2fwww.googleapis.com%2fauth%2fdocs.test%20https%3a%2f%2fwww.googleapis.com%2fauth%2fdrive%20https%3a%2f%2fwww.googleapis.com%2fauth%2fdrive.photos.readonly%20https%3a%2f%2fwww.googleapis.com%2fauth%2fpeopleapi.readonly\n",
      "\n",
      "Enter your authorization code:\n",
      "··········\n",
      "Mounted at /content/drive\n"
     ]
    }
   ],
   "source": [
    "from google.colab import drive\n",
    "drive.mount('/content/drive')"
   ]
  },
  {
   "cell_type": "code",
   "execution_count": 3,
   "metadata": {
    "colab": {
     "base_uri": "https://localhost:8080/",
     "height": 282
    },
    "colab_type": "code",
    "id": "WwHQMj3x5Nos",
    "outputId": "90cf08e1-ba08-43e0-ec16-7b0161a5f7fc"
   },
   "outputs": [
    {
     "data": {
      "text/html": [
       "<div>\n",
       "<style scoped>\n",
       "    .dataframe tbody tr th:only-of-type {\n",
       "        vertical-align: middle;\n",
       "    }\n",
       "\n",
       "    .dataframe tbody tr th {\n",
       "        vertical-align: top;\n",
       "    }\n",
       "\n",
       "    .dataframe thead th {\n",
       "        text-align: right;\n",
       "    }\n",
       "</style>\n",
       "<table border=\"1\" class=\"dataframe\">\n",
       "  <thead>\n",
       "    <tr style=\"text-align: right;\">\n",
       "      <th></th>\n",
       "      <th>User_ID</th>\n",
       "      <th>Product_ID</th>\n",
       "      <th>Gender</th>\n",
       "      <th>Age</th>\n",
       "      <th>Occupation</th>\n",
       "      <th>City_Category</th>\n",
       "      <th>Stay_In_Current_City_Years</th>\n",
       "      <th>Marital_Status</th>\n",
       "      <th>Product_Category_1</th>\n",
       "      <th>Product_Category_2</th>\n",
       "      <th>Product_Category_3</th>\n",
       "      <th>Purchase</th>\n",
       "    </tr>\n",
       "  </thead>\n",
       "  <tbody>\n",
       "    <tr>\n",
       "      <th>0</th>\n",
       "      <td>1000001</td>\n",
       "      <td>P00069042</td>\n",
       "      <td>F</td>\n",
       "      <td>0-17</td>\n",
       "      <td>10</td>\n",
       "      <td>A</td>\n",
       "      <td>2</td>\n",
       "      <td>0</td>\n",
       "      <td>3</td>\n",
       "      <td>NaN</td>\n",
       "      <td>NaN</td>\n",
       "      <td>8370</td>\n",
       "    </tr>\n",
       "    <tr>\n",
       "      <th>1</th>\n",
       "      <td>1000001</td>\n",
       "      <td>P00248942</td>\n",
       "      <td>F</td>\n",
       "      <td>0-17</td>\n",
       "      <td>10</td>\n",
       "      <td>A</td>\n",
       "      <td>2</td>\n",
       "      <td>0</td>\n",
       "      <td>1</td>\n",
       "      <td>6.0</td>\n",
       "      <td>14.0</td>\n",
       "      <td>15200</td>\n",
       "    </tr>\n",
       "    <tr>\n",
       "      <th>2</th>\n",
       "      <td>1000001</td>\n",
       "      <td>P00087842</td>\n",
       "      <td>F</td>\n",
       "      <td>0-17</td>\n",
       "      <td>10</td>\n",
       "      <td>A</td>\n",
       "      <td>2</td>\n",
       "      <td>0</td>\n",
       "      <td>12</td>\n",
       "      <td>NaN</td>\n",
       "      <td>NaN</td>\n",
       "      <td>1422</td>\n",
       "    </tr>\n",
       "    <tr>\n",
       "      <th>3</th>\n",
       "      <td>1000001</td>\n",
       "      <td>P00085442</td>\n",
       "      <td>F</td>\n",
       "      <td>0-17</td>\n",
       "      <td>10</td>\n",
       "      <td>A</td>\n",
       "      <td>2</td>\n",
       "      <td>0</td>\n",
       "      <td>12</td>\n",
       "      <td>14.0</td>\n",
       "      <td>NaN</td>\n",
       "      <td>1057</td>\n",
       "    </tr>\n",
       "    <tr>\n",
       "      <th>4</th>\n",
       "      <td>1000002</td>\n",
       "      <td>P00285442</td>\n",
       "      <td>M</td>\n",
       "      <td>55+</td>\n",
       "      <td>16</td>\n",
       "      <td>C</td>\n",
       "      <td>4+</td>\n",
       "      <td>0</td>\n",
       "      <td>8</td>\n",
       "      <td>NaN</td>\n",
       "      <td>NaN</td>\n",
       "      <td>7969</td>\n",
       "    </tr>\n",
       "  </tbody>\n",
       "</table>\n",
       "</div>"
      ],
      "text/plain": [
       "   User_ID Product_ID Gender  ... Product_Category_2  Product_Category_3 Purchase\n",
       "0  1000001  P00069042      F  ...                NaN                 NaN     8370\n",
       "1  1000001  P00248942      F  ...                6.0                14.0    15200\n",
       "2  1000001  P00087842      F  ...                NaN                 NaN     1422\n",
       "3  1000001  P00085442      F  ...               14.0                 NaN     1057\n",
       "4  1000002  P00285442      M  ...                NaN                 NaN     7969\n",
       "\n",
       "[5 rows x 12 columns]"
      ]
     },
     "execution_count": 3,
     "metadata": {
      "tags": []
     },
     "output_type": "execute_result"
    }
   ],
   "source": [
    "train = pd.read_csv('/content/drive/My Drive/black_friday_data/train.csv')\n",
    "test = pd.read_csv('/content/drive/My Drive/black_friday_data/test.csv')\n",
    "train.head()"
   ]
  },
  {
   "cell_type": "code",
   "execution_count": 4,
   "metadata": {
    "colab": {
     "base_uri": "https://localhost:8080/",
     "height": 554
    },
    "colab_type": "code",
    "id": "gk8zQC-r6mL8",
    "outputId": "8426d80c-2c3d-466e-ce59-c249b44f1fb9"
   },
   "outputs": [
    {
     "name": "stdout",
     "output_type": "stream",
     "text": [
      "(550068, 12)\n",
      "<class 'pandas.core.frame.DataFrame'>\n",
      "RangeIndex: 550068 entries, 0 to 550067\n",
      "Data columns (total 12 columns):\n",
      " #   Column                      Non-Null Count   Dtype  \n",
      "---  ------                      --------------   -----  \n",
      " 0   User_ID                     550068 non-null  int64  \n",
      " 1   Product_ID                  550068 non-null  object \n",
      " 2   Gender                      550068 non-null  object \n",
      " 3   Age                         550068 non-null  object \n",
      " 4   Occupation                  550068 non-null  int64  \n",
      " 5   City_Category               550068 non-null  object \n",
      " 6   Stay_In_Current_City_Years  550068 non-null  object \n",
      " 7   Marital_Status              550068 non-null  int64  \n",
      " 8   Product_Category_1          550068 non-null  int64  \n",
      " 9   Product_Category_2          376430 non-null  float64\n",
      " 10  Product_Category_3          166821 non-null  float64\n",
      " 11  Purchase                    550068 non-null  int64  \n",
      "dtypes: float64(2), int64(5), object(5)\n",
      "memory usage: 50.4+ MB\n",
      "None\n",
      "            User_ID     Occupation  ...  Product_Category_3       Purchase\n",
      "count  5.500680e+05  550068.000000  ...       166821.000000  550068.000000\n",
      "mean   1.003029e+06       8.076707  ...           12.668243    9263.968713\n",
      "std    1.727592e+03       6.522660  ...            4.125338    5023.065394\n",
      "min    1.000001e+06       0.000000  ...            3.000000      12.000000\n",
      "25%    1.001516e+06       2.000000  ...            9.000000    5823.000000\n",
      "50%    1.003077e+06       7.000000  ...           14.000000    8047.000000\n",
      "75%    1.004478e+06      14.000000  ...           16.000000   12054.000000\n",
      "max    1.006040e+06      20.000000  ...           18.000000   23961.000000\n",
      "\n",
      "[8 rows x 7 columns]\n"
     ]
    }
   ],
   "source": [
    "print(train.shape)\n",
    "print(train.info())\n",
    "print(train.describe())"
   ]
  },
  {
   "cell_type": "markdown",
   "metadata": {
    "colab_type": "text",
    "id": "ONnDyp4SkaTh"
   },
   "source": [
    "## Fastai library"
   ]
  },
  {
   "cell_type": "code",
   "execution_count": 5,
   "metadata": {
    "colab": {},
    "colab_type": "code",
    "id": "UBI5N_x1kZ3_"
   },
   "outputs": [],
   "source": [
    "%reload_ext autoreload\n",
    "%autoreload 2\n",
    "%matplotlib inline\n",
    "\n",
    "from fastai.tabular import * \n",
    "import os\n",
    "import warnings \n",
    "warnings.filterwarnings('ignore')"
   ]
  },
  {
   "cell_type": "markdown",
   "metadata": {
    "colab_type": "text",
    "id": "ulMx2W7EwcDb"
   },
   "source": [
    "### Data Preprocessing\n",
    "\n",
    "treat all variables as categorical variables \n",
    "\n",
    "Use 20% of training data as validation set\n",
    "\n",
    "Embedding categorical variables to numerical representations\n"
   ]
  },
  {
   "cell_type": "code",
   "execution_count": 99,
   "metadata": {
    "colab": {},
    "colab_type": "code",
    "id": "VYGftaiWkgsa"
   },
   "outputs": [],
   "source": [
    "path = '/content/drive/My Drive/black_friday_data/'\n",
    "modelpath = path + 'models/'\n",
    "\n",
    "# variable types\n",
    "cat_names = ['User_ID', 'Product_ID','Gender', 'Age', 'Occupation', 'City_Category', 'Marital_Status', 'Stay_In_Current_City_Years',\n",
    "             'Product_Category_1', 'Product_Category_2', 'Product_Category_3']          \n",
    "cont_names = []\n",
    "dep_var = 'Purchase'\n",
    "\n",
    "# df = train.drop(['User_ID', 'Product_ID'], axis=1)\n",
    "# test_df = test.drop(['User_ID', 'Product_ID'], axis=1)\n",
    "test_df = TabularList.from_df(test, cat_names=cat_names, cont_names=cont_names)\n",
    "# Data prepocessing\n",
    "#procs = [FillMissing, Categorify, Normalize]\n",
    "procs = [Categorify]\n",
    "\n",
    "data = (TabularList.from_df(train, path=path, cat_names=cat_names, cont_names=cont_names, procs=procs)\n",
    "                            .split_by_rand_pct(valid_pct = 0.2, seed=4)\n",
    "                            .label_from_df(cols=dep_var, label_cls=FloatList)\n",
    "                            .add_test(test_df).databunch())\n"
   ]
  },
  {
   "cell_type": "code",
   "execution_count": 7,
   "metadata": {
    "colab": {
     "base_uri": "https://localhost:8080/",
     "height": 406
    },
    "colab_type": "code",
    "id": "uVc5NJ9p8I5L",
    "outputId": "d23ade00-0a7e-451e-c35b-bf44961f1ee1"
   },
   "outputs": [
    {
     "data": {
      "text/plain": [
       "TabularDataBunch;\n",
       "\n",
       "Train: LabelList (440055 items)\n",
       "x: TabularList\n",
       "User_ID 1000001; Product_ID P00069042; Gender F; Age 0-17; Occupation 10; City_Category A; Marital_Status 0; Stay_In_Current_City_Years 2; Product_Category_1 3; Product_Category_2 #na#; Product_Category_3 #na#; ,User_ID 1000001; Product_ID P00087842; Gender F; Age 0-17; Occupation 10; City_Category A; Marital_Status 0; Stay_In_Current_City_Years 2; Product_Category_1 12; Product_Category_2 #na#; Product_Category_3 #na#; ,User_ID 1000001; Product_ID P00085442; Gender F; Age 0-17; Occupation 10; City_Category A; Marital_Status 0; Stay_In_Current_City_Years 2; Product_Category_1 12; Product_Category_2 14.0; Product_Category_3 #na#; ,User_ID 1000002; Product_ID P00285442; Gender M; Age 55+; Occupation 16; City_Category C; Marital_Status 0; Stay_In_Current_City_Years 4+; Product_Category_1 8; Product_Category_2 #na#; Product_Category_3 #na#; ,User_ID 1000003; Product_ID P00193542; Gender M; Age 26-35; Occupation 15; City_Category A; Marital_Status 0; Stay_In_Current_City_Years 3; Product_Category_1 1; Product_Category_2 2.0; Product_Category_3 #na#; \n",
       "y: FloatList\n",
       "8370.0,1422.0,1057.0,7969.0,15227.0\n",
       "Path: /content/drive/My Drive/black_friday_data;\n",
       "\n",
       "Valid: LabelList (110013 items)\n",
       "x: TabularList\n",
       "User_ID 1003729; Product_ID P00102342; Gender M; Age 18-25; Occupation 4; City_Category A; Marital_Status 0; Stay_In_Current_City_Years 2; Product_Category_1 8; Product_Category_2 14.0; Product_Category_3 17.0; ,User_ID 1005568; Product_ID P00217342; Gender M; Age 18-25; Occupation 4; City_Category C; Marital_Status 0; Stay_In_Current_City_Years 3; Product_Category_1 1; Product_Category_2 15.0; Product_Category_3 #na#; ,User_ID 1001272; Product_ID P00193642; Gender M; Age 18-25; Occupation 20; City_Category B; Marital_Status 0; Stay_In_Current_City_Years 0; Product_Category_1 2; Product_Category_2 3.0; Product_Category_3 4.0; ,User_ID 1005140; Product_ID P00190942; Gender M; Age 26-35; Occupation 6; City_Category B; Marital_Status 0; Stay_In_Current_City_Years 2; Product_Category_1 3; Product_Category_2 4.0; Product_Category_3 #na#; ,User_ID 1004704; Product_ID P00128942; Gender M; Age 18-25; Occupation 20; City_Category C; Marital_Status 0; Stay_In_Current_City_Years 1; Product_Category_1 1; Product_Category_2 11.0; Product_Category_3 #na#; \n",
       "y: FloatList\n",
       "7840.0,15631.0,9717.0,8041.0,19093.0\n",
       "Path: /content/drive/My Drive/black_friday_data;\n",
       "\n",
       "Test: LabelList (233599 items)\n",
       "x: TabularList\n",
       "User_ID 1000004; Product_ID P00128942; Gender M; Age 46-50; Occupation 7; City_Category B; Marital_Status 1; Stay_In_Current_City_Years 2; Product_Category_1 1; Product_Category_2 11.0; Product_Category_3 #na#; ,User_ID 1000009; Product_ID P00113442; Gender M; Age 26-35; Occupation 17; City_Category C; Marital_Status 0; Stay_In_Current_City_Years 0; Product_Category_1 3; Product_Category_2 5.0; Product_Category_3 #na#; ,User_ID 1000010; Product_ID P00288442; Gender F; Age 36-45; Occupation 1; City_Category B; Marital_Status 1; Stay_In_Current_City_Years 4+; Product_Category_1 5; Product_Category_2 14.0; Product_Category_3 #na#; ,User_ID 1000010; Product_ID P00145342; Gender F; Age 36-45; Occupation 1; City_Category B; Marital_Status 1; Stay_In_Current_City_Years 4+; Product_Category_1 4; Product_Category_2 9.0; Product_Category_3 #na#; ,User_ID 1000011; Product_ID P00053842; Gender F; Age 26-35; Occupation 1; City_Category C; Marital_Status 0; Stay_In_Current_City_Years 1; Product_Category_1 4; Product_Category_2 5.0; Product_Category_3 12.0; \n",
       "y: EmptyLabelList\n",
       ",,,,\n",
       "Path: /content/drive/My Drive/black_friday_data"
      ]
     },
     "execution_count": 7,
     "metadata": {
      "tags": []
     },
     "output_type": "execute_result"
    }
   ],
   "source": [
    "data"
   ]
  },
  {
   "cell_type": "code",
   "execution_count": 8,
   "metadata": {
    "colab": {
     "base_uri": "https://localhost:8080/",
     "height": 160
    },
    "colab_type": "code",
    "id": "pTgBmmRHkglo",
    "outputId": "0c1b2192-804c-4f59-9e38-3b325b8385f1"
   },
   "outputs": [
    {
     "data": {
      "text/html": [
       "<table border=\"1\" class=\"dataframe\">\n",
       "  <thead>\n",
       "    <tr style=\"text-align: right;\">\n",
       "      <th>User_ID</th>\n",
       "      <th>Product_ID</th>\n",
       "      <th>Gender</th>\n",
       "      <th>Age</th>\n",
       "      <th>Occupation</th>\n",
       "      <th>City_Category</th>\n",
       "      <th>Marital_Status</th>\n",
       "      <th>Stay_In_Current_City_Years</th>\n",
       "      <th>Product_Category_1</th>\n",
       "      <th>Product_Category_2</th>\n",
       "      <th>Product_Category_3</th>\n",
       "      <th>target</th>\n",
       "    </tr>\n",
       "  </thead>\n",
       "  <tbody>\n",
       "    <tr>\n",
       "      <td>1002990</td>\n",
       "      <td>P00049642</td>\n",
       "      <td>M</td>\n",
       "      <td>36-45</td>\n",
       "      <td>12</td>\n",
       "      <td>B</td>\n",
       "      <td>1</td>\n",
       "      <td>1</td>\n",
       "      <td>8</td>\n",
       "      <td>14.0</td>\n",
       "      <td>#na#</td>\n",
       "      <td>7756.0</td>\n",
       "    </tr>\n",
       "    <tr>\n",
       "      <td>1005688</td>\n",
       "      <td>P00251242</td>\n",
       "      <td>F</td>\n",
       "      <td>18-25</td>\n",
       "      <td>4</td>\n",
       "      <td>B</td>\n",
       "      <td>0</td>\n",
       "      <td>1</td>\n",
       "      <td>5</td>\n",
       "      <td>11.0</td>\n",
       "      <td>#na#</td>\n",
       "      <td>3496.0</td>\n",
       "    </tr>\n",
       "  </tbody>\n",
       "</table>"
      ],
      "text/plain": [
       "<IPython.core.display.HTML object>"
      ]
     },
     "metadata": {
      "tags": []
     },
     "output_type": "display_data"
    }
   ],
   "source": [
    "data.show_batch(rows=2)"
   ]
  },
  {
   "cell_type": "markdown",
   "metadata": {
    "colab_type": "text",
    "id": "VCOq7tU8yBUh"
   },
   "source": [
    "### Train: Deep Learning Model"
   ]
  },
  {
   "cell_type": "markdown",
   "metadata": {
    "colab_type": "text",
    "id": "2pDaaITfyNS0"
   },
   "source": [
    "#### Model 1: [200, 64, 32, 1]"
   ]
  },
  {
   "cell_type": "code",
   "execution_count": 52,
   "metadata": {
    "colab": {},
    "colab_type": "code",
    "id": "NAJgZUe0kgi8"
   },
   "outputs": [],
   "source": [
    "learn = tabular_learner(data, layers=[200,64,32], metrics=rmse, callback_fns=ShowGraph)"
   ]
  },
  {
   "cell_type": "code",
   "execution_count": 54,
   "metadata": {
    "colab": {
     "base_uri": "https://localhost:8080/",
     "height": 383
    },
    "colab_type": "code",
    "id": "4fjZiW-vy_om",
    "outputId": "817a505f-7f31-497b-bc96-371f450752f9"
   },
   "outputs": [
    {
     "data": {
      "text/html": [
       "\n",
       "    <div>\n",
       "        <style>\n",
       "            /* Turns off some styling */\n",
       "            progress {\n",
       "                /* gets rid of default border in Firefox and Opera. */\n",
       "                border: none;\n",
       "                /* Needs to be in here for Safari polyfill so background images work as expected. */\n",
       "                background-size: auto;\n",
       "            }\n",
       "            .progress-bar-interrupted, .progress-bar-interrupted::-webkit-progress-bar {\n",
       "                background: #F44336;\n",
       "            }\n",
       "        </style>\n",
       "      <progress value='0' class='' max='1' style='width:300px; height:20px; vertical-align: middle;'></progress>\n",
       "      0.00% [0/1 00:00<00:00]\n",
       "    </div>\n",
       "    \n",
       "<table border=\"1\" class=\"dataframe\">\n",
       "  <thead>\n",
       "    <tr style=\"text-align: left;\">\n",
       "      <th>epoch</th>\n",
       "      <th>train_loss</th>\n",
       "      <th>valid_loss</th>\n",
       "      <th>root_mean_squared_error</th>\n",
       "      <th>time</th>\n",
       "    </tr>\n",
       "  </thead>\n",
       "  <tbody>\n",
       "  </tbody>\n",
       "</table><p>\n",
       "\n",
       "    <div>\n",
       "        <style>\n",
       "            /* Turns off some styling */\n",
       "            progress {\n",
       "                /* gets rid of default border in Firefox and Opera. */\n",
       "                border: none;\n",
       "                /* Needs to be in here for Safari polyfill so background images work as expected. */\n",
       "                background-size: auto;\n",
       "            }\n",
       "            .progress-bar-interrupted, .progress-bar-interrupted::-webkit-progress-bar {\n",
       "                background: #F44336;\n",
       "            }\n",
       "        </style>\n",
       "      <progress value='88' class='' max='6875' style='width:300px; height:20px; vertical-align: middle;'></progress>\n",
       "      1.28% [88/6875 00:00<01:09 112372904.0000]\n",
       "    </div>\n",
       "    "
      ],
      "text/plain": [
       "<IPython.core.display.HTML object>"
      ]
     },
     "metadata": {
      "tags": []
     },
     "output_type": "display_data"
    },
    {
     "name": "stdout",
     "output_type": "stream",
     "text": [
      "LR Finder is complete, type {learner_name}.recorder.plot() to see the graph.\n"
     ]
    },
    {
     "data": {
      "image/png": "[encoded data removed]",
      "text/plain": [
       "<Figure size 432x288 with 1 Axes>"
      ]
     },
     "metadata": {
      "needs_background": "light",
      "tags": []
     },
     "output_type": "display_data"
    }
   ],
   "source": [
    "learn.lr_find(start_lr=1e-13, end_lr=1e-6)\n",
    "learn.recorder.plot()"
   ]
  },
  {
   "cell_type": "code",
   "execution_count": 11,
   "metadata": {
    "colab": {
     "base_uri": "https://localhost:8080/",
     "height": 484
    },
    "colab_type": "code",
    "id": "md7W41vvzqm-",
    "outputId": "5d64d260-dd6e-44e5-b181-247474c16ff2"
   },
   "outputs": [
    {
     "data": {
      "text/html": [
       "<table border=\"1\" class=\"dataframe\">\n",
       "  <thead>\n",
       "    <tr style=\"text-align: left;\">\n",
       "      <th>epoch</th>\n",
       "      <th>train_loss</th>\n",
       "      <th>valid_loss</th>\n",
       "      <th>root_mean_squared_error</th>\n",
       "      <th>time</th>\n",
       "    </tr>\n",
       "  </thead>\n",
       "  <tbody>\n",
       "    <tr>\n",
       "      <td>0</td>\n",
       "      <td>89936304.000000</td>\n",
       "      <td>88575056.000000</td>\n",
       "      <td>9394.979492</td>\n",
       "      <td>01:04</td>\n",
       "    </tr>\n",
       "    <tr>\n",
       "      <td>1</td>\n",
       "      <td>6607067.000000</td>\n",
       "      <td>6417489.500000</td>\n",
       "      <td>2516.197266</td>\n",
       "      <td>01:06</td>\n",
       "    </tr>\n",
       "    <tr>\n",
       "      <td>2</td>\n",
       "      <td>6083465.500000</td>\n",
       "      <td>5975015.500000</td>\n",
       "      <td>2426.288330</td>\n",
       "      <td>01:05</td>\n",
       "    </tr>\n",
       "    <tr>\n",
       "      <td>3</td>\n",
       "      <td>5845776.500000</td>\n",
       "      <td>5850791.000000</td>\n",
       "      <td>2400.976562</td>\n",
       "      <td>01:06</td>\n",
       "    </tr>\n",
       "    <tr>\n",
       "      <td>4</td>\n",
       "      <td>5740661.500000</td>\n",
       "      <td>5779940.000000</td>\n",
       "      <td>2385.466064</td>\n",
       "      <td>01:06</td>\n",
       "    </tr>\n",
       "    <tr>\n",
       "      <td>5</td>\n",
       "      <td>4987963.000000</td>\n",
       "      <td>5841347.000000</td>\n",
       "      <td>2397.078613</td>\n",
       "      <td>01:06</td>\n",
       "    </tr>\n",
       "  </tbody>\n",
       "</table>"
      ],
      "text/plain": [
       "<IPython.core.display.HTML object>"
      ]
     },
     "metadata": {
      "tags": []
     },
     "output_type": "display_data"
    },
    {
     "data": {
      "image/png": "[encoded data removed]",
      "text/plain": [
       "<Figure size 432x288 with 1 Axes>"
      ]
     },
     "metadata": {
      "tags": []
     },
     "output_type": "display_data"
    }
   ],
   "source": [
    "learn.fit_one_cycle(6)"
   ]
  },
  {
   "cell_type": "code",
   "execution_count": 12,
   "metadata": {
    "colab": {},
    "colab_type": "code",
    "id": "A1QVNj-okggR"
   },
   "outputs": [],
   "source": [
    "learn.save(modelpath+'model256-128-32-1')"
   ]
  },
  {
   "cell_type": "code",
   "execution_count": 74,
   "metadata": {
    "colab": {},
    "colab_type": "code",
    "id": "fZ-WGNYx681t"
   },
   "outputs": [],
   "source": [
    "# learn.load(modelpath+'model256-128-32-1')\n",
    "# learn.recorder.plot_lr() # Learning rate during training"
   ]
  },
  {
   "cell_type": "markdown",
   "metadata": {
    "colab_type": "text",
    "id": "EcqFsBhSNeJg"
   },
   "source": [
    "##### Feature Importance "
   ]
  },
  {
   "cell_type": "code",
   "execution_count": 83,
   "metadata": {
    "colab": {},
    "colab_type": "code",
    "id": "vBXFTMpuMJCM"
   },
   "outputs": [],
   "source": [
    "def feature_importance(learner): \n",
    "  # based on: https://medium.com/@mp.music93/neural-networks-feature-importance-with-fastai-5c393cf65815\n",
    "    data = learner.data.train_ds.x\n",
    "    cat_names = data.cat_names\n",
    "    cont_names = data.cont_names\n",
    "    loss0=np.array([learner.loss_func(learner.pred_batch(batch=(x,y.to(\"cpu\"))), y.to(\"cpu\")) for x,y in iter(learner.data.valid_dl)]).mean()\n",
    "    fi=dict()\n",
    "    types=[cat_names, cont_names]\n",
    "    for j, t in enumerate(types):\n",
    "      for i, c in enumerate(t):\n",
    "        loss=[]\n",
    "        for x,y in iter(learner.data.valid_dl):\n",
    "          col=x[j][:,i]    #x[0] da hier cat-vars\n",
    "          idx = torch.randperm(col.nelement())\n",
    "          x[j][:,i] = col.view(-1)[idx].view(col.size())\n",
    "          y=y.to('cpu')\n",
    "          loss.append(learner.loss_func(learner.pred_batch(batch=(x,y)), y))\n",
    "        fi[c]=np.array(loss).mean()-loss0\n",
    "    d = sorted(fi.items(), key=lambda kv: kv[1], reverse=True)\n",
    "    return pd.DataFrame({'cols': [l for l, v in d], 'imp': np.log1p([v for l, v in d])})"
   ]
  },
  {
   "cell_type": "code",
   "execution_count": 84,
   "metadata": {
    "colab": {
     "base_uri": "https://localhost:8080/",
     "height": 609
    },
    "colab_type": "code",
    "id": "pq0frJYPLs7p",
    "outputId": "d5607f5d-239c-489f-8718-ef0b746ddabc"
   },
   "outputs": [
    {
     "data": {
      "text/plain": [
       "<matplotlib.axes._subplots.AxesSubplot at 0x7efd2911bbe0>"
      ]
     },
     "execution_count": 84,
     "metadata": {
      "tags": []
     },
     "output_type": "execute_result"
    },
    {
     "data": {
      "image/png": "[encoded data removed]",
      "text/plain": [
       "<Figure size 720x720 with 1 Axes>"
      ]
     },
     "metadata": {
      "needs_background": "light",
      "tags": []
     },
     "output_type": "display_data"
    }
   ],
   "source": [
    "fi = feature_importance(learn)\n",
    "fi[:20].plot.barh(x=\"cols\", y=\"imp\", figsize=(10, 10))"
   ]
  },
  {
   "cell_type": "markdown",
   "metadata": {
    "colab_type": "text",
    "id": "2B33nk1nybZx"
   },
   "source": [
    "#### Model 2: [256, 128, 64, 32, 1]"
   ]
  },
  {
   "cell_type": "code",
   "execution_count": 57,
   "metadata": {
    "colab": {},
    "colab_type": "code",
    "id": "wc1W_sFNkgYo"
   },
   "outputs": [],
   "source": [
    "learn2 = tabular_learner(data, layers=[256,128,64,32], metrics=rmse, callback_fns=ShowGraph)"
   ]
  },
  {
   "cell_type": "code",
   "execution_count": 58,
   "metadata": {
    "colab": {
     "base_uri": "https://localhost:8080/",
     "height": 454
    },
    "colab_type": "code",
    "id": "1ExWmHXMvlRW",
    "outputId": "b6d59172-3969-4d79-a895-534dee185398"
   },
   "outputs": [
    {
     "data": {
      "text/html": [
       "<table border=\"1\" class=\"dataframe\">\n",
       "  <thead>\n",
       "    <tr style=\"text-align: left;\">\n",
       "      <th>epoch</th>\n",
       "      <th>train_loss</th>\n",
       "      <th>valid_loss</th>\n",
       "      <th>root_mean_squared_error</th>\n",
       "      <th>time</th>\n",
       "    </tr>\n",
       "  </thead>\n",
       "  <tbody>\n",
       "    <tr>\n",
       "      <td>0</td>\n",
       "      <td>75845728.000000</td>\n",
       "      <td>74945392.000000</td>\n",
       "      <td>8642.869141</td>\n",
       "      <td>01:10</td>\n",
       "    </tr>\n",
       "    <tr>\n",
       "      <td>1</td>\n",
       "      <td>6882373.000000</td>\n",
       "      <td>6202635.000000</td>\n",
       "      <td>2469.718506</td>\n",
       "      <td>01:08</td>\n",
       "    </tr>\n",
       "    <tr>\n",
       "      <td>2</td>\n",
       "      <td>5941342.500000</td>\n",
       "      <td>5945602.500000</td>\n",
       "      <td>2417.976074</td>\n",
       "      <td>01:08</td>\n",
       "    </tr>\n",
       "    <tr>\n",
       "      <td>3</td>\n",
       "      <td>5758496.000000</td>\n",
       "      <td>5907782.500000</td>\n",
       "      <td>2412.373291</td>\n",
       "      <td>01:08</td>\n",
       "    </tr>\n",
       "    <tr>\n",
       "      <td>4</td>\n",
       "      <td>5435530.500000</td>\n",
       "      <td>5840192.500000</td>\n",
       "      <td>2397.498535</td>\n",
       "      <td>01:08</td>\n",
       "    </tr>\n",
       "  </tbody>\n",
       "</table>"
      ],
      "text/plain": [
       "<IPython.core.display.HTML object>"
      ]
     },
     "metadata": {
      "tags": []
     },
     "output_type": "display_data"
    },
    {
     "data": {
      "image/png": "[encoded data removed]",
      "text/plain": [
       "<Figure size 432x288 with 1 Axes>"
      ]
     },
     "metadata": {
      "tags": []
     },
     "output_type": "display_data"
    }
   ],
   "source": [
    "learn2.fit_one_cycle(5)"
   ]
  },
  {
   "cell_type": "code",
   "execution_count": 59,
   "metadata": {
    "colab": {},
    "colab_type": "code",
    "id": "mgDS1Han_MRl"
   },
   "outputs": [],
   "source": [
    "learn2.save(modelpath+'model256-128-32-1')"
   ]
  },
  {
   "cell_type": "markdown",
   "metadata": {
    "colab_type": "text",
    "id": "R_0xw-OPJNjA"
   },
   "source": [
    "#### Method 3: 2-Variable Embedding\n",
    "\n",
    "Use only User_ID and Product_ID since they represent all important other sub variables"
   ]
  },
  {
   "cell_type": "code",
   "execution_count": 92,
   "metadata": {
    "colab": {},
    "colab_type": "code",
    "id": "DgDwg5piIlZI"
   },
   "outputs": [],
   "source": [
    "train2 = train[['User_ID','Product_ID','Purchase']]\n",
    "test2 = test[['User_ID','Product_ID']]\n",
    "\n",
    "cat_names = ['User_ID', 'Product_ID']          \n",
    "cont_names = []\n",
    "dep_var = 'Purchase'\n",
    "\n",
    "test_df2 = TabularList.from_df(test2, cat_names=cat_names, cont_names=cont_names)\n",
    "procs = [Categorify]\n",
    "\n",
    "data2 = (TabularList.from_df(train2, path=path, cat_names=cat_names, cont_names=cont_names, procs=procs)\n",
    "                            .split_by_rand_pct(valid_pct = 0.2, seed=4)\n",
    "                            .label_from_df(cols=dep_var, label_cls=FloatList)\n",
    "                            .add_test(test_df2).databunch())"
   ]
  },
  {
   "cell_type": "code",
   "execution_count": 93,
   "metadata": {
    "colab": {},
    "colab_type": "code",
    "id": "trlZ8rpsIlUd"
   },
   "outputs": [],
   "source": [
    "nn2 = tabular_learner(data2, layers=[200,100], metrics=rmse, callback_fns=ShowGraph)"
   ]
  },
  {
   "cell_type": "code",
   "execution_count": 95,
   "metadata": {
    "colab": {
     "base_uri": "https://localhost:8080/",
     "height": 543
    },
    "colab_type": "code",
    "id": "gWaqbMw-Ik3z",
    "outputId": "8ca42ea9-3ba2-4cb6-a126-cb5b57a36f45"
   },
   "outputs": [
    {
     "data": {
      "text/html": [
       "<table border=\"1\" class=\"dataframe\">\n",
       "  <thead>\n",
       "    <tr style=\"text-align: left;\">\n",
       "      <th>epoch</th>\n",
       "      <th>train_loss</th>\n",
       "      <th>valid_loss</th>\n",
       "      <th>root_mean_squared_error</th>\n",
       "      <th>time</th>\n",
       "    </tr>\n",
       "  </thead>\n",
       "  <tbody>\n",
       "    <tr>\n",
       "      <td>0</td>\n",
       "      <td>65635612.000000</td>\n",
       "      <td>63716100.000000</td>\n",
       "      <td>7970.745605</td>\n",
       "      <td>00:47</td>\n",
       "    </tr>\n",
       "    <tr>\n",
       "      <td>1</td>\n",
       "      <td>6660550.000000</td>\n",
       "      <td>6531996.000000</td>\n",
       "      <td>2534.905029</td>\n",
       "      <td>00:46</td>\n",
       "    </tr>\n",
       "    <tr>\n",
       "      <td>2</td>\n",
       "      <td>6507581.500000</td>\n",
       "      <td>6163184.000000</td>\n",
       "      <td>2462.691650</td>\n",
       "      <td>00:46</td>\n",
       "    </tr>\n",
       "    <tr>\n",
       "      <td>3</td>\n",
       "      <td>6471715.000000</td>\n",
       "      <td>6062212.000000</td>\n",
       "      <td>2443.225830</td>\n",
       "      <td>00:46</td>\n",
       "    </tr>\n",
       "    <tr>\n",
       "      <td>4</td>\n",
       "      <td>6013009.500000</td>\n",
       "      <td>5932888.000000</td>\n",
       "      <td>2416.377197</td>\n",
       "      <td>00:46</td>\n",
       "    </tr>\n",
       "    <tr>\n",
       "      <td>5</td>\n",
       "      <td>5632419.000000</td>\n",
       "      <td>5851049.000000</td>\n",
       "      <td>2398.188232</td>\n",
       "      <td>00:45</td>\n",
       "    </tr>\n",
       "    <tr>\n",
       "      <td>6</td>\n",
       "      <td>5303948.000000</td>\n",
       "      <td>5940869.000000</td>\n",
       "      <td>2417.424072</td>\n",
       "      <td>00:46</td>\n",
       "    </tr>\n",
       "    <tr>\n",
       "      <td>7</td>\n",
       "      <td>4801751.000000</td>\n",
       "      <td>5986341.000000</td>\n",
       "      <td>2426.405518</td>\n",
       "      <td>00:45</td>\n",
       "    </tr>\n",
       "  </tbody>\n",
       "</table>"
      ],
      "text/plain": [
       "<IPython.core.display.HTML object>"
      ]
     },
     "metadata": {
      "tags": []
     },
     "output_type": "display_data"
    },
    {
     "data": {
      "image/png": "[encoded data removed]",
      "text/plain": [
       "<Figure size 432x288 with 1 Axes>"
      ]
     },
     "metadata": {
      "tags": []
     },
     "output_type": "display_data"
    }
   ],
   "source": [
    "nn2.fit_one_cycle(8)"
   ]
  },
  {
   "cell_type": "code",
   "execution_count": 96,
   "metadata": {
    "colab": {},
    "colab_type": "code",
    "id": "QHdv6ZEKRN1l"
   },
   "outputs": [],
   "source": [
    "nn2.save(modelpath+'model200-100-2')"
   ]
  },
  {
   "cell_type": "markdown",
   "metadata": {
    "colab_type": "text",
    "id": "OW_jlDLGAXFq"
   },
   "source": [
    "#### Average Prediction"
   ]
  },
  {
   "cell_type": "code",
   "execution_count": 86,
   "metadata": {
    "colab": {
     "base_uri": "https://localhost:8080/",
     "height": 17
    },
    "colab_type": "code",
    "id": "ko36bKwbOAwd",
    "outputId": "8800965b-1d4e-4455-ee9f-7484b8d4ec64"
   },
   "outputs": [
    {
     "data": {
      "text/html": [],
      "text/plain": [
       "<IPython.core.display.HTML object>"
      ]
     },
     "metadata": {
      "tags": []
     },
     "output_type": "display_data"
    }
   ],
   "source": [
    "# get predictions\n",
    "learn.load(modelpath+'model256-128-32-1')\n",
    "preds,_ = learn.get_preds(ds_type=DatasetType.Test)\n",
    "tpreds = np.array(preds)\n",
    "predict = tpreds.reshape(-1,)\n",
    "\n",
    "learn2.load(modelpath+'model256-128-32-1')\n",
    "preds2,_ = learn2.get_preds(ds_type=DatasetType.Test)\n",
    "tpreds2 = np.array(preds2)\n",
    "predict2 = tpreds2.reshape(-1,)\n",
    "\n",
    "nn2.load(modelpath+'model200-100-1')\n",
    "preds3,_ = nn2.get_preds(ds_type=DatasetType.Test)\n",
    "tpreds3 = np.array(preds3)\n",
    "predict3 = tpreds3.reshape(-1,)"
   ]
  },
  {
   "cell_type": "code",
   "execution_count": 97,
   "metadata": {
    "colab": {
     "base_uri": "https://localhost:8080/",
     "height": 17
    },
    "colab_type": "code",
    "id": "mBMucjvJlCQJ",
    "outputId": "25a584d9-04ef-46ef-b9e0-2f0956740b82"
   },
   "outputs": [
    {
     "data": {
      "text/html": [],
      "text/plain": [
       "<IPython.core.display.HTML object>"
      ]
     },
     "metadata": {
      "tags": []
     },
     "output_type": "display_data"
    }
   ],
   "source": [
    "nn2.load(modelpath+'model200-100-2')\n",
    "preds3,_ = nn2.get_preds(ds_type=DatasetType.Test)\n",
    "tpreds3 = np.array(preds3)\n",
    "predict3 = tpreds3.reshape(-1,)"
   ]
  },
  {
   "cell_type": "code",
   "execution_count": 88,
   "metadata": {
    "colab": {},
    "colab_type": "code",
    "id": "JnhO8A09OAYP"
   },
   "outputs": [],
   "source": [
    "av_preds = (predict+predict2+predict3)/3\n",
    "df = pd.DataFrame({'Purchase':av_preds, 'User_ID':test.User_ID, 'Product_ID':test.Product_ID}, \n",
    "                  columns=['Purchase','User_ID', 'Product_ID'])\n",
    "df.to_csv(path+'av_Embed.csv', index=False)"
   ]
  },
  {
   "cell_type": "markdown",
   "metadata": {
    "colab_type": "text",
    "id": "PhrvMQ_OT1Nw"
   },
   "source": [
    "![image.png](data:image/png;base64,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)"
   ]
  }
 ],
 "metadata": {
  "accelerator": "GPU",
  "colab": {
   "collapsed_sections": [],
   "machine_shape": "hm",
   "name": "Black_Friday.ipynb",
   "provenance": [],
   "toc_visible": true
  },
  "kernelspec": {
   "display_name": "Python 3",
   "language": "python",
   "name": "python3"
  },
  "language_info": {
   "codemirror_mode": {
    "name": "ipython",
    "version": 3
   },
   "file_extension": ".py",
   "mimetype": "text/x-python",
   "name": "python",
   "nbconvert_exporter": "python",
   "pygments_lexer": "ipython3",
   "version": "3.7.6"
  }
 },
 "nbformat": 4,
 "nbformat_minor": 1
}
